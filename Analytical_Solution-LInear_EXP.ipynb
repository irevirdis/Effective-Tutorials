{
 "cells": [
  {
   "cell_type": "markdown",
   "metadata": {},
   "source": [
    "### Analytical Calculation of Output Distribution (1Dimension case)\n",
    "#### By Irene Virdis\n",
    "\n",
    "Given the exponential random distribution $f_X (x)$, we want to calculate the output distribution $f_Y (y)$ through the selected function $Y=g(X)$ of the random variable X."
   ]
  },
  {
   "cell_type": "markdown",
   "metadata": {},
   "source": [
    "\\begin{equation}\\label{eq:input}\n",
    "f_X (x)  = \\lambda \\cdot e^{(-\\lambda \\cdot x) }, x\\ge0, \\lambda>0 ;\\\\\n",
    "Y = g(X) = 3\\cdot x +2.5\n",
    "\\end{equation}"
   ]
  },
  {
   "cell_type": "markdown",
   "metadata": {},
   "source": [
    "The probability density function for the linear case has a well known form:"
   ]
  },
  {
   "cell_type": "markdown",
   "metadata": {},
   "source": [
    "$f_Y (y) = \\frac{1}{|a|}f_X (\\frac{y-b}{a})$ if $(y-b)\\geq 0 $, where $a$ and $b$ are defined by $Y = aX+b$\n",
    "\n",
    "And for the case under study it can be written as follows:\n",
    "\n",
    "$f_Y (y) = \\frac{\\lambda}{|a|}e^{-\\lambda (y-b)/a}$ when $\\frac{y-b}{a}\\geq 0 \\rightarrow y\\geq 2.5$\n"
   ]
  },
  {
   "cell_type": "markdown",
   "metadata": {},
   "source": [
    "The plot of input and output distribution has been reported in the pictures below, with the Python code used to generate them."
   ]
  },
  {
   "cell_type": "code",
   "execution_count": 8,
   "metadata": {},
   "outputs": [
    {
     "data": {
      "image/png": "[encoded data removed]",
      "text/plain": [
       "<Figure size 432x288 with 1 Axes>"
      ]
     },
     "metadata": {},
     "output_type": "display_data"
    }
   ],
   "source": [
    "import numpy as np\n",
    "import matplotlib.pyplot as plt\n",
    "from math import exp\n",
    "from equadratures import *\n",
    "\n",
    "#--------------------------------------------------#\n",
    "#       plot of distributions\n",
    "#--------------------------------------------------#\n",
    "y = np.linspace(0,100,1000)\n",
    "x = np.linspace(0,100,1000)\n",
    "#-----------------------------------------------------------#\n",
    "\n",
    "a = 3\n",
    "b = 2.5\n",
    "\n",
    "def blackbox(x):\n",
    "    \n",
    "    return a*x+b\n",
    "\n",
    "\n",
    "\n",
    "lambdaa = 0.5\n",
    "f_y = np.zeros((1000,1))\n",
    "y_i = blackbox(x) \n",
    "f_x = np.zeros((1000,1))\n",
    "\n",
    "for i in range(0,1000):\n",
    "    #f_y[i] = (lambdaa/(y_i[i]**2))*(exp(-lambdaa/y_i[i]))\n",
    "    f_y[i] = (lambdaa/abs(a) )*exp(-lambdaa*(y_i[i]-b)/a)\n",
    "    f_x[i] = lambdaa*exp(-lambdaa*x[i]) \n",
    "\n",
    "plt.figure()\n",
    "plt.grid()\n",
    "plt.plot(x,f_x,'r-',label='f_X(x)')\n",
    "plt.legend(loc='upper right')\n",
    "axes = plt.gca()\n",
    "axes.set_xlim([0,10])\n",
    "axes.set_ylim([0,0.6])\n",
    "plt.xlabel('input variable X')\n",
    "plt.ylabel('input PDF')\n",
    "plt.show()"
   ]
  },
  {
   "cell_type": "code",
   "execution_count": 9,
   "metadata": {},
   "outputs": [
    {
     "data": {
      "image/png": "[encoded data removed]",
      "text/plain": [
       "<Figure size 432x288 with 1 Axes>"
      ]
     },
     "metadata": {},
     "output_type": "display_data"
    }
   ],
   "source": [
    "plt.figure()\n",
    "plt.grid()\n",
    "plt.plot(y_i,f_y,'b-', label='f_Y(y)')\n",
    "plt.legend(loc='upper right')\n",
    "axes = plt.gca()\n",
    "axes.set_xlim([0,10])\n",
    "axes.set_ylim([0,0.6])\n",
    "plt.xlabel('output variable X')\n",
    "plt.ylabel('output PDF')\n",
    "plt.show()"
   ]
  },
  {
   "cell_type": "markdown",
   "metadata": {},
   "source": [
    "#### Mean and Variance of output distribution"
   ]
  },
  {
   "cell_type": "markdown",
   "metadata": {},
   "source": [
    "The mean and the variance of the output distribution can be calculed with the analytical form and by means of Monte Carlo method: the pyhon script used to this aim has been reported as follows:"
   ]
  },
  {
   "cell_type": "code",
   "execution_count": 10,
   "metadata": {
    "scrolled": true
   },
   "outputs": [
    {
     "name": "stdout",
     "output_type": "stream",
     "text": [
      "Monte Carlo:\n",
      "8.494916614249338 35.87336069570201\n"
     ]
    }
   ],
   "source": [
    "# MonteCarlo\n",
    "\n",
    "N = 1099000\n",
    "A = 0.5  # shape factor lambda\n",
    "B = 1/A\n",
    "xi = np.random.exponential(B,(N,1))\n",
    "yi = evalfunction(np.reshape(xi, (N,1)), blackbox)\n",
    "print 'Monte Carlo:'\n",
    "print np.mean(yi), np.var(yi)"
   ]
  },
  {
   "cell_type": "markdown",
   "metadata": {},
   "source": [
    "For the analytical solution:"
   ]
  },
  {
   "cell_type": "markdown",
   "metadata": {},
   "source": [
    "$E[Y] = \\int_{2.5}^{\\infty}y e^{-\\lambda(y-b)/a} dy = - e^{(\\lambda(y-b)/a))} (y+ \\frac{a}{\\lambda}) |_{2.5} ^\\infty$"
   ]
  },
  {
   "cell_type": "markdown",
   "metadata": {},
   "source": [
    "$var(Y) = \\int_{2.5}^{\\infty}(y-E[x])^2 e^{-\\lambda(y-b)/a} dy  $"
   ]
  },
  {
   "cell_type": "markdown",
   "metadata": {},
   "source": [
    "By solving the integrals and sobstituing the limits we obtain:\n",
    "    $E[Y] = 8.5$ and $var(Y) = 36$"
   ]
  },
  {
   "cell_type": "markdown",
   "metadata": {},
   "source": [
    "### Numerical Solution with Effective Quadrature"
   ]
  },
  {
   "cell_type": "markdown",
   "metadata": {},
   "source": [
    "Mean and variance of output distributions have been calculated using Effective Quadrature code: the parameters which characterize the input distribution have been reported as arguments of class $\\textit{Parameter}$:\n",
    "\n",
    "- order: number of points used between lower and upper values of interval\n",
    "- shape parameter A = it represents the $\\lambda$ of  an exponential distribution, in this case $\\lambda =0.5$ "
   ]
  },
  {
   "cell_type": "code",
   "execution_count": 5,
   "metadata": {},
   "outputs": [
    {
     "name": "stdout",
     "output_type": "stream",
     "text": [
      "Effective Quadratures\n",
      "mean: 8.2947179197 variance: 29.855650294\n"
     ]
    }
   ],
   "source": [
    "xo = Parameter(order=5, distribution='Exponential',lower=0.0, upper=500, shape_parameter_A=0.5) \n",
    "\n",
    "myBasis = Basis('Tensor')\n",
    "myPoly = Polyint([xo], myBasis)\n",
    "myPoly.computeCoefficients(blackbox)\n",
    "myStats = myPoly.getStatistics()\n",
    "print 'Effective Quadratures'\n",
    "print 'mean:', myStats.mean, 'variance:', myStats.variance\n"
   ]
  },
  {
   "cell_type": "code",
   "execution_count": null,
   "metadata": {},
   "outputs": [],
   "source": []
  }
 ],
 "metadata": {
  "kernelspec": {
   "display_name": "Python 2",
   "language": "python2",
   "name": "python2"
  },
  "language_info": {
   "codemirror_mode": {
    "name": "ipython",
    "version": 2
   },
   "file_extension": ".py",
   "mimetype": "text/x-python",
   "name": "python",
   "nbconvert_exporter": "python",
   "pygments_lexer": "ipython2",
   "version": "2.7.15"
  }
 },
 "nbformat": 4,
 "nbformat_minor": 2
}
