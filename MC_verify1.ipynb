{
 "cells": [
  {
   "cell_type": "markdown",
   "metadata": {},
   "source": [
    "## Sintax comparison to generate input random variables by using Monte Carlo\n",
    "\n",
    "#### By Irene Virdis\n",
    "\n",
    "### case 1: sintax to create random variables"
   ]
  },
  {
   "cell_type": "markdown",
   "metadata": {},
   "source": [
    "In this notebook we want to evaluate the discrepancies among the different ways of creating the arrays of input distributions $X$ and $Y$.\n",
    "Given the parameters $\\mu$ and $\\sigma^2$ which respectively represents the mean and the variance of the normal distributions (created with normal random variables $X$ and $Y$) under study, the output expected value and the squared deviation have been evaluated by assuming independency between $X$ and $Y$ (this is possible by the $Numpy$ function $np.random.randn$).\n",
    "The blackbox which contributes to built the random $Z$ variable has been tested for different degree of polynomial function (from the linear relationship to the cubic)."
   ]
  },
  {
   "cell_type": "code",
   "execution_count": 2,
   "metadata": {},
   "outputs": [],
   "source": [
    "from equadratures import *\n",
    "import matplotlib.pyplot as plt\n",
    "import numpy as np\n",
    "\n",
    "#-------------------------- coefficients --------------------------#\n",
    "a = 3.0\n",
    "b = 5.0\n",
    "#--------------------------- input distributions -----------------#\n",
    "mu1 = -4.0 # mean 1\n",
    "mu2 = 1.0 # mean 2\n",
    "\n",
    "sigma1_quad = 1.5 # variance 1\n",
    "sigma2_quad = 0.6 # variance 2\n",
    "\n",
    "dev_1 = np.sqrt(sigma1_quad) # standard deviation 1\n",
    "dev_2 = np.sqrt(sigma2_quad) # standard deviation 2\n",
    "\n",
    "#---------------------------------------------------------------#\n",
    "#  LINEAR\n",
    "def blackbox1(x):\n",
    "    return a*x[0] + b*x[1]\n",
    "#---------------------------------------------------------------#\n",
    "#  QUADRATIC\n",
    "def blackbox2(x):\n",
    "    return a*x[0]**2 + b*x[1]**2\n",
    "#---------------------------------------------------------------#\n",
    "#  CUBIC\n",
    "def blackbox3(x):\n",
    "    return a*x[0]**3 + b*x[1]**3"
   ]
  },
  {
   "cell_type": "markdown",
   "metadata": {},
   "source": [
    "### Comparison between matrix input and single arrays input\n",
    "\n",
    "The aim of this section is to investigate how different could be the mean and the variance of the output distribution if we choose different ways to build the input variables: for the first case the input has been modelled as a matrix $(Nx2)$, where N is the number of samples that has been used for Monte Carlo calculations.\n",
    "In the second case the input variables will be modelled as single arrays with $(N,1)$ dimension. $X$ and $Y$ have been given as arguments of a $reshape$ function which build $Z$ variable as specified into the called blackbox."
   ]
  },
  {
   "cell_type": "code",
   "execution_count": 7,
   "metadata": {},
   "outputs": [
    {
     "name": "stdout",
     "output_type": "stream",
     "text": [
      "FIRST CASE\n",
      "mean: -11.999182116499474 variance: 435.66451610581913\n",
      "mean: 76.3921869266738 variance: 5808.450652901307\n",
      "mean: -316.7659075973464 variance: 197093.77302595307\n",
      "SECOND CASE\n",
      "mean: -11.99917387886548 variance: 435.6475355394165\n",
      "mean: 76.39473045994625 variance: 5803.187045483892\n",
      "mean: -316.7185188730128 variance: 196950.60606605728\n"
     ]
    }
   ],
   "source": [
    "#----------------------------- monte carlo mean and variance -----------#\n",
    "#   INDEPENDENT VARIABLES\n",
    "N = 900000\n",
    "\n",
    "###################################################################\n",
    "#      FIRST CASE\n",
    "x = np.random.randn(N,2)\n",
    "x1 = x[:,0]*dev_1 + mu1\n",
    "x2 = x[:,1]*dev_2 + mu2\n",
    "\n",
    "zi1 = evalfunction(np.reshape([x1,x2],(N,2)),blackbox1)\n",
    "zi2 = evalfunction(np.reshape([x1,x2],(N,2)),blackbox2)\n",
    "zi3 = evalfunction(np.reshape([x1,x2],(N,2)),blackbox3)\n",
    "\n",
    "print 'FIRST CASE'\n",
    "print 'mean:' , np.mean(zi1), 'variance:' , np.var(zi1)\n",
    "print 'mean:' , np.mean(zi2), 'variance:' , np.var(zi2)\n",
    "print 'mean:' , np.mean(zi3), 'variance:' , np.var(zi3)\n",
    "\n",
    "###################################################################\n",
    "#      SECOND CASE\n",
    "xi = np.random.normal(mu1,dev_1,(N,1))\n",
    "xii = np.random.normal(mu2,dev_2,(N,1))\n",
    "\n",
    "zi1 = evalfunction(np.reshape([xi,xii],(N,2)),blackbox1)\n",
    "zi2 = evalfunction(np.reshape([xi,xii],(N,2)),blackbox2)\n",
    "zi3 = evalfunction(np.reshape([xi,xii],(N,2)),blackbox3)\n",
    "\n",
    "print 'SECOND CASE'\n",
    "print 'mean:' , np.mean(zi1), 'variance:' , np.var(zi1)\n",
    "print 'mean:' , np.mean(zi2), 'variance:' , np.var(zi2)\n",
    "print 'mean:' , np.mean(zi3), 'variance:' , np.var(zi3)\n"
   ]
  },
  {
   "cell_type": "markdown",
   "metadata": {},
   "source": [
    "Small differences are present between the cases under study."
   ]
  }
 ],
 "metadata": {
  "kernelspec": {
   "display_name": "Python 2",
   "language": "python2",
   "name": "python2"
  },
  "language_info": {
   "codemirror_mode": {
    "name": "ipython",
    "version": 2
   },
   "file_extension": ".py",
   "mimetype": "text/x-python",
   "name": "python",
   "nbconvert_exporter": "python",
   "pygments_lexer": "ipython2",
   "version": "2.7.15"
  }
 },
 "nbformat": 4,
 "nbformat_minor": 2
}
