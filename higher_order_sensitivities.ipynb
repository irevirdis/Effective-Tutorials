{
 "cells": [
  {
   "cell_type": "markdown",
   "metadata": {},
   "source": [
    "# Higher Order Sensitivity Indices"
   ]
  },
  {
   "cell_type": "markdown",
   "metadata": {
    "collapsed": true
   },
   "source": [
    "<h4> By Nicholas Wong </h4>"
   ]
  },
  {
   "cell_type": "code",
   "execution_count": 1,
   "metadata": {
    "collapsed": true
   },
   "outputs": [],
   "source": [
    "import sys\n",
    "sys.path.append('../') "
   ]
  },
  {
   "cell_type": "code",
   "execution_count": 2,
   "metadata": {
    "collapsed": false
   },
   "outputs": [],
   "source": [
    "%matplotlib inline\n",
    "from equadratures import *\n",
    "import numpy as np\n",
    "import scipy.stats as s"
   ]
  },
  {
   "cell_type": "markdown",
   "metadata": {},
   "source": [
    "Variance indices (Sobol' indices) give the spread of the data away from the mean, but does not account for the direction of the spread and the relative weight of the tail of the distribution (the \"peakiness\"). In optimization, we may be interested in the extrema attained by the output, which concerns the tail of the output distribution.\n",
    "\n",
    "Higher order sensitivity indices address precisely this concern. Higher order statistics, namely skewness and kurtosis, can be decomposed in a similar fashion to Sobol' indices, giving rise to conditional skewness and kurtosis indices. Individual components to the skewness and kurtosis with respect to each input variable or groups of such may be computed using methods in the Statistics class. "
   ]
  },
  {
   "cell_type": "markdown",
   "metadata": {},
   "source": [
    "<h2> Methodology </h2>\n",
    "\n",
    "The computation of Sobol' indices is intuitive when conidering the computation of the global variance using polynomial chaos (PC), where we approximate a function $g(s)$ with a surrogate polynomial function $f(s)$, defined as\n",
    "\n",
    "$$ f(s) = \\sum_{i=1}^{P} x_i \\phi_i(s). $$\n",
    "\n",
    "Due to orthogonality of the basis polynomials, the global variance is computed as:\n",
    "\n",
    "$$ \\textrm{Var}[f(s)] = \\sum_{i=1}^{P} x_i^2. $$\n",
    "\n",
    "A Sobol' index simply sums up the squares of cofficients corresponding to contributing polynomials (i.e. polynomials with a non-zero order in the variables concerned. Conditional skewness/kurtosis indices follow the same principle.\n",
    "\n",
    "Skewness and kurtosis are defined as the third and fourth central standardized moment. For instance, the skewness is:\n",
    "\n",
    "$$\\mu^{3} = \\int_S (f(s) - \\mu)^{3} \\rho ds = \\int_S \\left(\\sum_{i=1}^P x_i \\phi_i(s)\\right)^{3} \\rho ds,$$\n",
    "\n",
    "where $\\rho$ is the input PDF, defined over $S$, the support. In practice, Gauss quadrature or Monte Carlo is used to evaluate the integral numerically, and two approaches can be taken. Firstly, one can sum the polynomial evaluations, each weighted by the corresponding coefficient, at the quadrature points, resulting in a \"total evaluation\" at each quadrature point. Then, cube/fourth the results and compute the integral by forming the inner product with a quadrature weight vector. (effectively sum-before-integral) This approach is $O(Pd)$ where $P$ is the number of basis terms and $d$ is the input dimension. This is satisfactory for computing the global skewness/kurtosis.\n",
    "\n",
    "However, to compute conditional indices, it is necessary to expand the inner sum using the multinomial theorem first, as only by doing so will the result be interpretable as a sum of contributions from each  (group of) basis term(s) (effectively integral-before-sum). The details of such expansion is given in Geraci et al [1]. With computing the variance-based Sobol' indices, the cross term conveniently cancels with orthogonality. However, with skewness and kurtosis the cross terms do not necessarily cancel. This necessitates an $O(P^3d)$ operation for skewness and $O(P^4d)$ operation for kurtosis, resulting in forbiddingly long computational times. \n",
    "\n",
    "However, all is not lost, and some saving may be achieved with low order conditional skewness/kurtosis terms. Firstly, Geraci et al.[1] details some conditions where the integral in the sum need not be computed as they are zero. Secondly, as only cross term integrals that result in the variables we are interested in need to be computed, some basis terms can be eliminated a priori. For instance, when computing first order indices, it is not necessary to consider any basis term that has total order larger than 1, since any integral with such a basis term will only increase the number of participating variables, and certainly will not contribute to the first order index at the end. This reduces the complexity to $O(n^3d)$ for skewness, for example, where $n << P$ is the highest order of the polynomial in any dimension."
   ]
  },
  {
   "cell_type": "markdown",
   "metadata": {},
   "source": [
    "# <h2> Usage Example </h2>\n",
    "\n",
    "Let's see the methods in action. We will use the piston problem from Kenett et al. [2]. Please refer to the notebook on Sobol' indices for further information. "
   ]
  },
  {
   "cell_type": "code",
   "execution_count": 3,
   "metadata": {
    "collapsed": true
   },
   "outputs": [],
   "source": [
    "def piston(x):\n",
    "    mass, area, volume, spring, pressure, ambtemp, gastemp = x[0], x[1], x[2], x[3], x[4], x[5], x[6]\n",
    "    A = pressure * area + 19.62*mass - (spring * volume)/(1.0 * area)\n",
    "    V = (area/(2*spring)) * ( np.sqrt(A**2 + 4*spring * pressure * volume * ambtemp/gastemp) - A)\n",
    "    C = 2 * np.pi * np.sqrt(mass/(spring + area**2 * pressure * volume * ambtemp/(gastemp * V**2)))\n",
    "    return C"
   ]
  },
  {
   "cell_type": "markdown",
   "metadata": {},
   "source": [
    "Here we will use an order 5 polynomial in each of the seven dimensions and assume a uniform PDF in each dimension."
   ]
  },
  {
   "cell_type": "code",
   "execution_count": 4,
   "metadata": {
    "collapsed": true
   },
   "outputs": [],
   "source": [
    "p_order = 5\n",
    "\n",
    "mass = Parameter(distribution=\"Uniform\", order = p_order, lower=30, upper=60)\n",
    "area = Parameter(distribution=\"Uniform\",order = p_order, lower=0.005, upper=0.020)\n",
    "volume = Parameter(distribution=\"Uniform\",order = p_order, lower=0.002, upper=0.010)\n",
    "spring = Parameter(distribution=\"Uniform\",order = p_order, lower=1000, upper=5000)\n",
    "pressure = Parameter(distribution=\"Uniform\",order = p_order, lower=90000, upper=110000)\n",
    "ambtemp = Parameter(distribution=\"Uniform\",order = p_order, lower=290, upper=296)\n",
    "gastemp = Parameter(distribution=\"Uniform\",order = p_order, lower=340, upper=360)\n",
    "parameters = [mass, area, volume, spring, pressure, ambtemp, gastemp]"
   ]
  },
  {
   "cell_type": "markdown",
   "metadata": {},
   "source": [
    "Let's use a degree 5 total order grid as the index set:"
   ]
  },
  {
   "cell_type": "code",
   "execution_count": 5,
   "metadata": {
    "collapsed": true
   },
   "outputs": [],
   "source": [
    "orders = [p_order,p_order,p_order,p_order,p_order,p_order,p_order]\n",
    "polybasis = Basis(\"Total order\", orders)"
   ]
  },
  {
   "cell_type": "markdown",
   "metadata": {},
   "source": [
    "We have $^{12} C _5 = 792$ basis terms in our PC expansion. Let's use 3000 randomly sampled points to evaluate the PC coefficients (taking care to sample from the correct range) and initiate Statistics class:"
   ]
  },
  {
   "cell_type": "code",
   "execution_count": 6,
   "metadata": {
    "collapsed": false
   },
   "outputs": [
    {
     "name": "stderr",
     "output_type": "stream",
     "text": [
      "//anaconda/lib/python2.7/site-packages/equadratures-6.0-py2.7.egg/equadratures/polyreg.py:60: FutureWarning: `rcond` parameter will change to the default of machine precision times ``max(M, N)`` where M and N are the input matrix dimensions.\n",
      "To use the future default and silence this warning we advise to pass `rcond=None`, to keep using the old, explicitly pass `rcond=-1`.\n",
      "  alpha = np.linalg.lstsq(self.A, self.bz) # Opted for numpy's standard version because of speed!\n"
     ]
    }
   ],
   "source": [
    "sampled_points = np.random.uniform(size = (3000,7))\n",
    "\n",
    "sampled_points = sampled_points * [30, .015, .008, 4000, 20000, 6, 20]\n",
    "sampled_points = sampled_points + [30, .005, .002, 1000, 90000, 290, 340]\n",
    "\n",
    "poly = Polyreg(parameters, polybasis, sampled_points, fun=piston)\n",
    "coeffs_reg = poly.coefficients\n",
    "\n",
    "stats = poly.getStatistics()"
   ]
  },
  {
   "cell_type": "markdown",
   "metadata": {},
   "source": [
    "By default, global indices (mean, variance, skewness and kurtosis) are already computed at initialization. They can be viewed through printing the corresponding class variables"
   ]
  },
  {
   "cell_type": "code",
   "execution_count": 7,
   "metadata": {
    "collapsed": false
   },
   "outputs": [
    {
     "name": "stdout",
     "output_type": "stream",
     "text": [
      "0.462431267368\n",
      "0.0194609238842\n",
      "0.612230346950315\n",
      "3.3173232832787547\n"
     ]
    }
   ],
   "source": [
    "print stats.mean\n",
    "print stats.variance\n",
    "print stats.skewness\n",
    "print stats.kurtosis"
   ]
  },
  {
   "cell_type": "markdown",
   "metadata": {},
   "source": [
    "Now sample the output distribution with Monte Carlo and compute the statistics:"
   ]
  },
  {
   "cell_type": "code",
   "execution_count": 8,
   "metadata": {
    "collapsed": false
   },
   "outputs": [
    {
     "name": "stdout",
     "output_type": "stream",
     "text": [
      "0.46143862991093704\n",
      "0.01945817988243864\n",
      "0.623864183398\n",
      "3.33502121988\n"
     ]
    }
   ],
   "source": [
    "MC_samples = np.random.uniform(size = (100000,7))\n",
    "MC_samples = MC_samples * [30, .015, .008, 4000, 20000, 6, 20]\n",
    "MC_samples = MC_samples + [30, .005, .002, 1000, 90000, 290, 340]\n",
    "\n",
    "f = np.zeros(100000)\n",
    "\n",
    "for i in range(100000):\n",
    "    f[i] = piston(MC_samples[i,:])\n",
    "\n",
    "print np.mean(f)\n",
    "print np.var(f)\n",
    "print float(s.skew(f))\n",
    "print float(s.kurtosis(f, fisher = False))"
   ]
  },
  {
   "cell_type": "markdown",
   "metadata": {},
   "source": [
    "As seen, the agreement is not bad. Now, let's calculate the first two orders of conditional indices."
   ]
  },
  {
   "cell_type": "code",
   "execution_count": 9,
   "metadata": {
    "collapsed": false
   },
   "outputs": [],
   "source": [
    "v1 = stats.getSobol(1)\n",
    "v2 = stats.getSobol(2)\n",
    "s1 = stats.getCondSkewness(1)\n",
    "s2 = stats.getCondSkewness(2)\n",
    "k1 = stats.getCondKurtosis(1)\n",
    "k2 = stats.getCondKurtosis(2)"
   ]
  },
  {
   "cell_type": "markdown",
   "metadata": {},
   "source": [
    "Here, the keys of each dict signify the dimensions involved in the index. Let's examine the sum of the indices in these two orders:"
   ]
  },
  {
   "cell_type": "code",
   "execution_count": 10,
   "metadata": {
    "collapsed": false
   },
   "outputs": [
    {
     "name": "stdout",
     "output_type": "stream",
     "text": [
      "0.989842644295\n",
      "0.7661779241968563\n",
      "0.7424654065124542\n"
     ]
    }
   ],
   "source": [
    "print sum(v1.values()) + sum(v2.values())\n",
    "print sum(s1.values()) + sum(s2.values())\n",
    "print sum(k1.values()) + sum(k2.values())"
   ]
  },
  {
   "cell_type": "markdown",
   "metadata": {},
   "source": [
    "As seen, the sums are close to one, so we don't miss much by not evaluating the rest of the indices (which could take a long time). We visualize the first-order Sobol', skewness and kurtosis indices by plotting a bar chart."
   ]
  },
  {
   "cell_type": "code",
   "execution_count": 11,
   "metadata": {
    "collapsed": false
   },
   "outputs": [
    {
     "data": {
      "image/png": "[encoded data removed]",
      "text/plain": [
       "<matplotlib.figure.Figure at 0x10cf11810>"
      ]
     },
     "metadata": {},
     "output_type": "display_data"
    }
   ],
   "source": [
    "vp = []\n",
    "sp = []\n",
    "kp = []\n",
    "for i in [(0,),(1,),(2,),(3,),(4,),(5,),(6,)]:\n",
    "    vp.append(v1[i])\n",
    "    sp.append(s1[i])\n",
    "    kp.append(k1[i])\n",
    "fig, ax = plt.subplots()\n",
    "x = np.arange(7)\n",
    "ax.bar(x-0.2, vp,width=0.2,color='b',align='center')\n",
    "ax.bar(x, sp,width=0.2,color='g',align='center')\n",
    "ax.bar(x+0.2, kp,width=0.2,color='r',align='center')\n",
    "plt.xticks(x, ('M', 'S', 'V0', 'k', 'P0', 'Ta', 'T0'))\n",
    "adjust_spines(ax, ['left', 'bottom'])\n",
    "plt.xlabel('Input Variable')\n",
    "plt.ylabel('Sensitivity Index')\n",
    "plt.show()"
   ]
  },
  {
   "cell_type": "markdown",
   "metadata": {},
   "source": [
    "From the plot above, not only do we conclude that $S$ and $V_0$, corresponding to the piston area and gas volume respectively, are the most important to the output, but also the fact that $S$ contributes strongly to positive skewness and $V_0$ to negative skewness."
   ]
  },
  {
   "cell_type": "markdown",
   "metadata": {},
   "source": [
    "<h4>References</h4>"
   ]
  },
  {
   "cell_type": "markdown",
   "metadata": {},
   "source": [
    "[1]: Geraci, G., Congedo, P. M., Abgrall, R., & Iaccarino, G. (2016). High-order statistics in global sensitivity analysis: decomposition and model reduction. Computer Methods in Applied Mechanics and Engineering, 301, 80-115.\n",
    "\n",
    "[2]: Kenett, Ron, Shelemyahu Zacks, and Daniele Amberti. Modern Industrial Statistics: with applications in R, MINITAB and JMP. John Wiley & Sons, 2013."
   ]
  }
 ],
 "metadata": {
  "anaconda-cloud": {},
  "kernelspec": {
   "display_name": "Python [default]",
   "language": "python",
   "name": "python2"
  },
  "language_info": {
   "codemirror_mode": {
    "name": "ipython",
    "version": 2
   },
   "file_extension": ".py",
   "mimetype": "text/x-python",
   "name": "python",
   "nbconvert_exporter": "python",
   "pygments_lexer": "ipython2",
   "version": "2.7.12"
  }
 },
 "nbformat": 4,
 "nbformat_minor": 2
}
