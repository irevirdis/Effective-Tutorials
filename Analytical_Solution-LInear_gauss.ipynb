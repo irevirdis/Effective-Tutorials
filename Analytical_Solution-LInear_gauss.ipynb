{
 "cells": [
  {
   "cell_type": "markdown",
   "metadata": {},
   "source": [
    "### Analytical Calculation of Output Distribution (1Dimension case)\n",
    "#### By Irene Virdis\n",
    "Given the normal random distribution $f_X (x)$, we want to calculate the output distribution $f_Y (y)$ through the selected function $Y=g(X)$ of the random variable X."
   ]
  },
  {
   "cell_type": "markdown",
   "metadata": {},
   "source": [
    "\\begin{equation}\\label{eq:input}\n",
    "f_X (x)  = \\frac{1}{\\sqrt{2\\cdot \\pi} \\cdot \\sigma} e^{\\frac{-(x-\\mu)^2}{\\sigma^2}} ; \\\\\n",
    "Y = g(X) = 3\\cdot x +2.5\n",
    "\\end{equation}"
   ]
  },
  {
   "cell_type": "markdown",
   "metadata": {},
   "source": [
    "The probability density function for the linear case has a well known form:"
   ]
  },
  {
   "cell_type": "markdown",
   "metadata": {},
   "source": [
    "$f_Y (y) = \\frac{1}{|a|}f_X (\\frac{y-b}{a})$ if $(y-b)\\geq 0 $, where $a$ and $b$ are defined by $Y = aX+b$\n",
    "\n",
    "The normality is preserved by the linear transformations, so the values of mean and variance of the output distributions are known:\n",
    "\n",
    "$E[Y]= a\\mu$ +b\n",
    "\n",
    "$var(Y)=a^2 \\sigma^2$"
   ]
  },
  {
   "cell_type": "markdown",
   "metadata": {},
   "source": [
    "The Probability Density Functions for input and output distributions have been plotted: in the following lines the Python code used to realize them has been reported:"
   ]
  },
  {
   "cell_type": "code",
   "execution_count": 1,
   "metadata": {},
   "outputs": [],
   "source": [
    "import numpy as np\n",
    "import scipy.integrate as integrate\n",
    "from math import exp\n",
    "from equadratures import *"
   ]
  },
  {
   "cell_type": "markdown",
   "metadata": {},
   "source": [
    "The 'blackbox' function as been defined with the linear function of variable X:"
   ]
  },
  {
   "cell_type": "code",
   "execution_count": 2,
   "metadata": {},
   "outputs": [],
   "source": [
    "a = 3.0\n",
    "b = 2.5\n",
    "\n",
    "def blackbox(x):\n",
    "    return a*x[0]+b"
   ]
  },
  {
   "cell_type": "code",
   "execution_count": 3,
   "metadata": {},
   "outputs": [],
   "source": [
    "\n",
    "#------------------------ parameters for input distribution -------------#\n",
    "sigma_quad = 3\n",
    "std_dev = np.sqrt(sigma_quad)\n",
    "mu = 2.0"
   ]
  },
  {
   "cell_type": "code",
   "execution_count": 4,
   "metadata": {},
   "outputs": [
    {
     "data": {
      "image/png": "[encoded data removed]",
      "text/plain": [
       "<Figure size 432x288 with 1 Axes>"
      ]
     },
     "metadata": {},
     "output_type": "display_data"
    }
   ],
   "source": [
    "x = np.linspace(-10.0,20.0,100)\n",
    "\n",
    "def fx(x):\n",
    "    first = 1/(std_dev*np.sqrt(2*3.14))\n",
    "    second = np.exp((-(x-mu)**2)/sigma_quad)\n",
    "    return first*second\n",
    "\n",
    "y = blackbox(x)\n",
    "y_i = fx(x)\n",
    "\n",
    "plt.figure()\n",
    "plt.grid()\n",
    "plt.plot(x,y_i,'r-', label='f_x (x)')\n",
    "plt.legend(loc='upper right')\n",
    "#------ for output-----#\n",
    "#axes=plt.gca()\n",
    "#axes.set_xlim([-20,50])\n",
    "plt.show()"
   ]
  },
  {
   "cell_type": "code",
   "execution_count": 24,
   "metadata": {},
   "outputs": [
    {
     "data": {
      "image/png": "[encoded data removed]",
      "text/plain": [
       "<Figure size 432x288 with 1 Axes>"
      ]
     },
     "metadata": {},
     "output_type": "display_data"
    }
   ],
   "source": [
    "x = np.linspace(-10,30.0,100)\n",
    "sigma_quad = 3\n",
    "std_dev = np.sqrt(sigma_quad)\n",
    "mu = 2.0\n",
    "\n",
    "sigma_quad = sigma_quad*a**2\n",
    "mu = mu*a +b\n",
    "\n",
    "def fxo(x):\n",
    "    primo = 1/(std_dev*np.sqrt(2*3.14))\n",
    "    secondo = np.exp((-(x-mu)**2)/sigma_quad)\n",
    "    return primo*secondo\n",
    "\n",
    "y_o = fxo(y)\n",
    "\n",
    "\n",
    "plt.figure()\n",
    "plt.grid()\n",
    "plt.plot(y,y_o,'b-',label='f_Y(y)')\n",
    "plt.legend(loc='lower high')\n",
    "#------ for output-----#\n",
    "axes=plt.gca()\n",
    "axes.set_xlim([-20,40])\n",
    "plt.show()"
   ]
  },
  {
   "cell_type": "markdown",
   "metadata": {},
   "source": [
    "#### Mean and Variance of output distribution"
   ]
  },
  {
   "cell_type": "markdown",
   "metadata": {},
   "source": [
    "The mean and the variance of the output distribution can be calculed with the analytical form and by means of Monte Carlo method: the pyhon script used to this aim has been reported as follows:"
   ]
  },
  {
   "cell_type": "code",
   "execution_count": 6,
   "metadata": {
    "scrolled": true
   },
   "outputs": [
    {
     "name": "stdout",
     "output_type": "stream",
     "text": [
      "Monte Carlo:\n",
      "8.49987943524359 27.00228040290774\n"
     ]
    }
   ],
   "source": [
    "# MonteCarlo\n",
    "mu = 2 # mean\n",
    "sigma_quad = 3 # variance\n",
    "std_dev = np.sqrt(sigma_quad) # standard deviation\n",
    "\n",
    "N = 1099000\n",
    "\n",
    "xi = np.random.normal(mu,std_dev,(N,1))\n",
    "yi = evalfunction(np.reshape(xi, (N,1)), blackbox)\n",
    "print 'Monte Carlo:'\n",
    "print np.mean(yi), np.var(yi)"
   ]
  },
  {
   "cell_type": "markdown",
   "metadata": {},
   "source": [
    "For the analytical solution, given $a=3$, $b=2.5$:"
   ]
  },
  {
   "cell_type": "markdown",
   "metadata": {},
   "source": [
    "$E[Y] = a \\cdot \\mu +b = 8.5$ \n",
    "\n",
    "$var(X) = a^2\\cdot \\sigma^2 = 27$"
   ]
  },
  {
   "cell_type": "markdown",
   "metadata": {},
   "source": [
    "### Numerical Solution with Effective Quadrature"
   ]
  },
  {
   "cell_type": "markdown",
   "metadata": {},
   "source": [
    "The mean and the variance of output distribution have been numerically calculated with Effective Quadrature code: to this aim the paramenters of the exponential input distribution have been specified as argument of class $\\textit{Parameter}$:\n",
    "\n",
    "- order: number of points used for quadrature inside the interval $[upper, lower]$\n",
    "- shape parameter A: it represents the mean of the normal distribution $\\mu$\n",
    "- shape parameter B: it represents the variance of normal distribution $\\sigma^2$"
   ]
  },
  {
   "cell_type": "markdown",
   "metadata": {},
   "source": [
    "In the following lines the Python code for calculation has been reported:"
   ]
  },
  {
   "cell_type": "code",
   "execution_count": 7,
   "metadata": {},
   "outputs": [
    {
     "name": "stdout",
     "output_type": "stream",
     "text": [
      "Effective Quadratures\n",
      "mean: 8.5 variance: 27.0\n"
     ]
    }
   ],
   "source": [
    "#------------------------ parameters for input distribution -------------#\n",
    "sigma_quad = 3 # variance\n",
    "std_dev = np.sqrt(sigma_quad) # standard deviation\n",
    "mu = 2.0 # mean\n",
    "\n",
    "# Using polynomials!\n",
    "\n",
    "xo = Parameter(order=5, distribution='Gaussian', shape_parameter_A=mu, shape_parameter_B=sigma_quad)\n",
    "myBasis = Basis('Tensor')\n",
    "myPoly = Polyint([xo], myBasis)\n",
    "myPoly.computeCoefficients(blackbox)\n",
    "myStats = myPoly.getStatistics()\n",
    "print 'Effective Quadratures'\n",
    "print 'mean:',myStats.mean,'variance:', myStats.variance"
   ]
  },
  {
   "cell_type": "code",
   "execution_count": null,
   "metadata": {},
   "outputs": [],
   "source": []
  }
 ],
 "metadata": {
  "kernelspec": {
   "display_name": "Python 2",
   "language": "python2",
   "name": "python2"
  },
  "language_info": {
   "codemirror_mode": {
    "name": "ipython",
    "version": 2
   },
   "file_extension": ".py",
   "mimetype": "text/x-python",
   "name": "python",
   "nbconvert_exporter": "python",
   "pygments_lexer": "ipython2",
   "version": "2.7.15"
  }
 },
 "nbformat": 4,
 "nbformat_minor": 2
}
