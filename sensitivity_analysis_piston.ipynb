{
 "cells": [
  {
   "cell_type": "markdown",
   "metadata": {},
   "source": [
    "<h1> Computing Sensitivity (Sobol) Indices For a Piston Model"
   ]
  },
  {
   "cell_type": "markdown",
   "metadata": {},
   "source": [
    "<h4> By Pranay Seshadri </h4>"
   ]
  },
  {
   "cell_type": "markdown",
   "metadata": {},
   "source": [
    "In many computational problems there are a few key inputs that actually dictate the state of the output. Computing the Sobol indices of the inputs is one approach to determine which inputs are the $\\textit{drivers}$. Typically computation of the Sobol indices involves a large number of samples -- significantly more than required to get the variance in the data. However as shown in Blatman et al. [1], using orthogonal polynomials these can be computed with relative ease. In this notebook we demonstrate how we can compute these indices using effective quadratures. "
   ]
  },
  {
   "cell_type": "markdown",
   "metadata": {},
   "source": [
    "We consider the well-known piston problem from Kenett et al. [2] that is a non-linear, seven-dimensional problem that outputs the piston cycle time given various piston parameters. These parameters and their bounds are shown in the table below."
   ]
  },
  {
   "cell_type": "markdown",
   "metadata": {
    "collapsed": true
   },
   "source": [
    "$$\\begin{array}{lll} \\hline\n",
    "Variable & Range & Description \\\\ \\hline\n",
    "M & [30, 60] & Piston \\; weight \\; (kg)\\\\ \n",
    "S & [0.005, 0.0020] & Piston \\; surface \\; area \\; (m^2)\\\\ \n",
    "V_0 & [0.002, 0.010] & Initial \\; gas \\; volume \\; (m^3)\\\\ \n",
    "k & [1000,5000] & Spring \\; coefficient \\; (N/m)\\\\ \n",
    "P_0 & [90000, 110000] & Atmospheric \\; pressure \\; (N/m^2)\\\\ \n",
    "T_a & [290, 296] & Ambient \\; temperature \\; (K)\\\\ \n",
    "T_0 & [340, 360] & Filling \\; gas \\; temperature \\; (K)\\\\ \\hline\n",
    "\\end{array}$$"
   ]
  },
  {
   "cell_type": "markdown",
   "metadata": {},
   "source": [
    "The cycle time for the piston is given by\n",
    "$$C=2\\pi\\sqrt{\\frac{M}{k+S^{2}\\frac{P_{0}V_{0}T_{a}}{T_{0}V^{2}}}},$$\n",
    "where\n",
    "$$V=\\frac{S}{2k}\\left(\\sqrt{A^{2}+4k\\frac{P_{0}V_{0}}{T_{0}}T_{a}}-A\\right),$$\n",
    "and\n",
    "$$A=P_{0}S+19.62M-\\frac{kV_{0}}{S}.$$\n",
    "The estimated $\\textit{normalized}$ Sobol indices from Owen et al. [3] are given to be:"
   ]
  },
  {
   "cell_type": "markdown",
   "metadata": {},
   "source": [
    "$$\\begin{array}{lllllll} \\hline\n",
    "  & M &  S & V_0 & k & P_0 & T_a & T_0  \\\\ \\hline\n",
    "10^2 \\underline{\\tau^{(2)}} \\; indices & 0.073 & 1.088 & 0.626 & 0.040 & 0.001 & -0.002 & -0.002 \\\\ \\hline\n",
    "\\end{array}$$\n",
    "\n",
    "Note that these values are effectively the Sobol index multiplied by the variance. See [3] for further details."
   ]
  },
  {
   "cell_type": "code",
   "execution_count": 1,
   "metadata": {
    "collapsed": true
   },
   "outputs": [],
   "source": [
    "%matplotlib inline\n",
    "from equadratures import *\n",
    "import numpy as np"
   ]
  },
  {
   "cell_type": "markdown",
   "metadata": {},
   "source": [
    "As before, we begin by defining each parameter and its range using four points for each variable."
   ]
  },
  {
   "cell_type": "code",
   "execution_count": 2,
   "metadata": {
    "collapsed": true
   },
   "outputs": [],
   "source": [
    "order_parameters = 3\n",
    "mass = Parameter(distribution='uniform', lower=30.0, upper=60.0, order=order_parameters)\n",
    "area = Parameter(distribution='uniform', lower=0.005, upper=0.020, order=order_parameters)\n",
    "volume = Parameter(distribution='uniform', lower=0.002, upper=0.010, order=order_parameters)\n",
    "spring = Parameter(distribution='uniform', lower=1000., upper=5000., order=order_parameters)\n",
    "pressure = Parameter(distribution='uniform', lower=90000., upper=110000., order=order_parameters)\n",
    "ambtemp = Parameter(distribution='uniform', lower=290., upper=296., order=order_parameters)\n",
    "gastemp = Parameter(distribution='uniform', lower=340., upper=360., order=order_parameters)\n",
    "parameters = [mass, area, volume, spring, pressure, ambtemp, gastemp]\n",
    "\n",
    "def piston(x):\n",
    "    mass, area, volume, spring, pressure, ambtemp, gastemp = x[0], x[1], x[2], x[3], x[4], x[5], x[6]\n",
    "    A = pressure * area + 19.62*mass - (spring * volume)/(1.0 * area)\n",
    "    V = (area/(2*spring)) * ( np.sqrt(A**2 + 4*spring * pressure * volume * ambtemp/gastemp) - A)\n",
    "    C = 2 * np.pi * np.sqrt(mass/(spring + area**2 * pressure * volume * ambtemp/(gastemp * V**2)))\n",
    "    return C"
   ]
  },
  {
   "cell_type": "markdown",
   "metadata": {},
   "source": [
    "We will opt for a total order basis set with effective quadrature subsampling!"
   ]
  },
  {
   "cell_type": "code",
   "execution_count": 3,
   "metadata": {
    "collapsed": true
   },
   "outputs": [],
   "source": [
    "mybasis = Basis('Total order')\n",
    "Pleastsquares = Polylsq(parameters, mybasis, mesh='tensor', optimization='greedy-qr', oversampling=1.0)"
   ]
  },
  {
   "cell_type": "markdown",
   "metadata": {},
   "source": [
    "Now (and this is the important part), we wish to ascertain how many model evaluations will be required for computing these sensitivities. The objective is for these to be orders of magnitude lower than other methods for computing Sobol' indices."
   ]
  },
  {
   "cell_type": "code",
   "execution_count": 4,
   "metadata": {
    "collapsed": false
   },
   "outputs": [
    {
     "name": "stdout",
     "output_type": "stream",
     "text": [
      "120\n"
     ]
    }
   ],
   "source": [
    "print mybasis.cardinality"
   ]
  },
  {
   "cell_type": "markdown",
   "metadata": {},
   "source": [
    "Excellent! So the number of model evaluations we will require is 120! Now lets compute the coefficients and ascertain which of the variables above are the most important."
   ]
  },
  {
   "cell_type": "code",
   "execution_count": 5,
   "metadata": {
    "collapsed": false
   },
   "outputs": [
    {
     "name": "stderr",
     "output_type": "stream",
     "text": [
      "//anaconda/lib/python2.7/site-packages/equadratures-6.0-py2.7.egg/equadratures/polylsq.py:208: FutureWarning: `rcond` parameter will change to the default of machine precision times ``max(M, N)`` where M and N are the input matrix dimensions.\n",
      "To use the future default and silence this warning we advise to pass `rcond=None`, to keep using the old, explicitly pass `rcond=-1`.\n",
      "  alpha = np.linalg.lstsq(self.Az, self.bz)\n"
     ]
    }
   ],
   "source": [
    "Pleastsquares.computeCoefficients(piston)\n",
    "Sleastsquares = Pleastsquares.getStatistics()"
   ]
  },
  {
   "cell_type": "markdown",
   "metadata": {},
   "source": [
    "Printing the output to the screen...and verifying the values are similar to the ones reported by Owen..."
   ]
  },
  {
   "cell_type": "code",
   "execution_count": 6,
   "metadata": {
    "collapsed": false
   },
   "outputs": [
    {
     "data": {
      "image/png": "[encoded data removed]",
      "text/plain": [
       "<matplotlib.figure.Figure at 0x10467e390>"
      ]
     },
     "metadata": {},
     "output_type": "display_data"
    }
   ],
   "source": [
    "data = Sleastsquares.getSobol(1)\n",
    "fig = plt.figure()\n",
    "ax = fig.add_subplot(1,1,1)\n",
    "for key, value in data.items():\n",
    "    plt.bar(key[0], value, color='aqua')\n",
    "adjust_spines(ax, ['left', 'bottom'])\n",
    "plt.xlabel(\"Parameters\")\n",
    "plt.ylabel(\"First order Sobol' indices\")\n",
    "plt.show()"
   ]
  },
  {
   "cell_type": "code",
   "execution_count": 7,
   "metadata": {
    "collapsed": false
   },
   "outputs": [
    {
     "name": "stdout",
     "output_type": "stream",
     "text": [
      "0.0790729230512\n",
      "1.04006909416\n",
      "0.570479600289\n",
      "0.047655149298\n",
      "0.00307211809197\n",
      "5.74465327578e-05\n",
      "0.00180048511613\n"
     ]
    }
   ],
   "source": [
    "data = Sleastsquares.getSobol(1).values()\n",
    "for i in range(0, len(parameters)):\n",
    "    print float(data[i]) * 10**2 * Sleastsquares.variance"
   ]
  },
  {
   "cell_type": "markdown",
   "metadata": {},
   "source": [
    "Yes they are, voila! And we are done here!"
   ]
  },
  {
   "cell_type": "markdown",
   "metadata": {},
   "source": [
    "<h3> References"
   ]
  },
  {
   "cell_type": "markdown",
   "metadata": {},
   "source": [
    "1. Blatman, Géraud, and Bruno Sudret. \"Adaptive sparse polynomial chaos expansion based on least angle regression.\" Journal of Computational Physics 230.6 (2011): 2345-2367.\n",
    "2. Kenett, Ron, Shelemyahu Zacks, and Daniele Amberti. Modern Industrial Statistics: with applications in R, MINITAB and JMP. John Wiley & Sons, 2013.\n",
    "3. Owen, Art B., Josef Dick, and Su Chen. \"Higher order Sobol'indices.\" Information and Inference 3.1 (2014): 59-81."
   ]
  }
 ],
 "metadata": {
  "anaconda-cloud": {},
  "kernelspec": {
   "display_name": "Python [default]",
   "language": "python",
   "name": "python2"
  },
  "language_info": {
   "codemirror_mode": {
    "name": "ipython",
    "version": 2
   },
   "file_extension": ".py",
   "mimetype": "text/x-python",
   "name": "python",
   "nbconvert_exporter": "python",
   "pygments_lexer": "ipython2",
   "version": "2.7.12"
  }
 },
 "nbformat": 4,
 "nbformat_minor": 1
}
