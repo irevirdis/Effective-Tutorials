{
 "cells": [
  {
   "cell_type": "markdown",
   "metadata": {},
   "source": [
    "## Comparison between correlated and uncorrelated variables using Monte Carlo\n",
    "\n",
    "#### By Irene Virdis\n",
    "\n",
    "### case 3: increasing number of samples\n",
    "\n",
    "In this notebook will be investigated the Monte Carlo's results, in terms of mean and variance of output distribution, by varying the number of samples and the case of correlated input random variables will be compared.\n",
    "The input Probability Density Functions are normal, with known values of mean $\\mu$ and variance $\\sigma^2$. In the section below have been reported the input parametes, together with the definition of a $\\textit{blackbox}$ which receives the two random variables $X$, $Y$ and build the output random variable $z$ through a linear function."
   ]
  },
  {
   "cell_type": "code",
   "execution_count": 4,
   "metadata": {},
   "outputs": [],
   "source": [
    "from equadratures import *\n",
    "import matplotlib.pyplot as plt\n",
    "import numpy as np\n",
    "from matplotlib.ticker import NullFormatter\n",
    "#-------------------------- coefficients --------------------------#\n",
    "a = 3.0\n",
    "b = 5.0\n",
    "#--------------------------- input distributions -----------------#\n",
    "\n",
    "mu1 = -4.0 # mean 1\n",
    "mu2 = 1.0 # mean 2\n",
    "\n",
    "sigma1_quad = 1.5 # variance 1\n",
    "sigma2_quad = 0.6 # variance 2\n",
    "\n",
    "dev_1 = np.sqrt(sigma1_quad) # standard deviation 1\n",
    "dev_2 = np.sqrt(sigma2_quad) # standard deviation 2\n",
    "\n",
    "#---------------------------------------------------------------#\n",
    "# \n",
    "def blackbox(x):\n",
    "    return a*x[0] + b*x[1]\n"
   ]
  },
  {
   "cell_type": "markdown",
   "metadata": {},
   "source": [
    "### Comparison between correlated and uncorrelated variables using Monte Carlo\n",
    "\n",
    "We want to estimate numerically the expected value and the variance by assuming that $X$ and $Y$ are independent and not correlated; this can be specified usin the $\\textit{Numpy}$ function $\\textit{np.ramdom.randn}$.\n",
    "In the following lines a $\\textit{for}$ statement has been used to iteratively vary the number of samples used to extimate $\\mu$ and $\\sigma^2$.\n",
    "Starting from the lower samples number (900000), this later will be increased of the $25\\%$ in each iteration; as a consequence, in every cycle the input variables have to be reshaped together with the output distribution $Z$.\n",
    "The results are two arrays which contain the mean and the variance associated with the different values of samples for each iteration."
   ]
  },
  {
   "cell_type": "code",
   "execution_count": 6,
   "metadata": {},
   "outputs": [
    {
     "name": "stdout",
     "output_type": "stream",
     "text": [
      "iteration: 0 | samples number: 900000 | mean: [-11.99557735] | variance [435.76519374]\n",
      "iteration: 1 | samples number: 1125000 | mean: [-11.99678464] | variance [435.88875795]\n",
      "iteration: 2 | samples number: 1350000 | mean: [-12.00481135] | variance [435.68045528]\n",
      "iteration: 3 | samples number: 1575000 | mean: [-11.99723096] | variance [435.60447534]\n",
      "iteration: 4 | samples number: 1800000 | mean: [-11.99860135] | variance [435.30249238]\n",
      "iteration: 5 | samples number: 2025000 | mean: [-12.00430043] | variance [435.87193124]\n"
     ]
    }
   ],
   "source": [
    "#----------------------------- monte carlo mean and variance -----------#\n",
    "#   INDEPENDENT VARIABLES\n",
    "\n",
    "N = 900000          # initial number of samples\n",
    "step = int(N*0.25)  # step used to iterate\n",
    "end = int(step*10)  # final value of samples\n",
    "l = int ((end - N)/step)\n",
    "\n",
    "# input distributions\n",
    "x = np.random.randn(N,2)\n",
    "x1 = x[:,0]*dev_1 + mu1\n",
    "x2 = x[:,1]*dev_2 + mu2\n",
    "\n",
    "# array of samples\n",
    "s = np.zeros((l,1))\n",
    "\n",
    "for i in range(0,l):\n",
    "    s[i]  = int(N + step*i)\n",
    "#print s \n",
    "\n",
    "mean = np.zeros((l,1))\n",
    "variance = np.zeros((l,1))\n",
    "\n",
    "for i,value in enumerate(s):\n",
    "    \n",
    "    N = int(value)\n",
    "    \n",
    "    x = np.random.randn(N,2)\n",
    "    x1 = x[:,0]*dev_1 + mu1\n",
    "    x2 = x[:,1]*dev_2 + mu2\n",
    "    z = evalfunction(np.reshape([x1,x2],(N,2)),blackbox)\n",
    "    mean[i] = np.mean(z)\n",
    "    variance[i] = np.var(z)\n",
    "    \n",
    "    print 'iteration:',i,'| samples number:',N, '| mean:', mean[i], '| variance', variance[i]    \n",
    "\n"
   ]
  },
  {
   "cell_type": "markdown",
   "metadata": {},
   "source": [
    "The results obtained show litte variation of $\\mu$ and $\\sigma^2$ with the increased values of samples number."
   ]
  },
  {
   "cell_type": "markdown",
   "metadata": {},
   "source": [
    "In the following section will be exposed the case in which the input variables are correlated: this relationship can be specify by using the $\\textit{Numpy}$ function $\\textit{np.random.multivariate}$ for a normal distribution; the procedure for iteratively varying the sample number is the same used for independent input $X$, $Y$.\n",
    "The argument of the $\\textit{multivariate}$ function are:\n",
    "\n",
    "- mean array : for the case under study it has (2x1) dimension and contains $\\mu_1$, $\\mu_2$ the mean of each distributions $X$ and $Y$ respectively.\n",
    "\n",
    "- covariance matrix: it is defined as follows: \n",
    " $cov(X,Y) = \n",
    "  \\left[ {\\begin{array}{cc}\n",
    "   {\\sigma_1}^2 & {\\sigma_1}{\\sigma_2} \\\\\n",
    "   {\\sigma_2}{\\sigma_1} & {\\sigma_2}^2 \\\\\n",
    "  \\end{array} } \\right]$\n",
    "  \n",
    " is a matrix of (2x2) elements, positive and simmetric. Along the principal diagonal have  been reported the squared values of standard deviations ${\\sigma_1}^2$ and ${\\sigma_2}^2$: \n"
   ]
  },
  {
   "cell_type": "code",
   "execution_count": 8,
   "metadata": {},
   "outputs": [
    {
     "name": "stdout",
     "output_type": "stream",
     "text": [
      "iteration: 0 | samples number: 900000 | mean: [-11.99656289] | variance [435.72887848]\n",
      "iteration: 1 | samples number: 1125000 | mean: [-11.99243039] | variance [435.5937199]\n",
      "iteration: 2 | samples number: 1350000 | mean: [-12.00717862] | variance [435.82345204]\n",
      "iteration: 3 | samples number: 1575000 | mean: [-11.99529891] | variance [435.57915697]\n",
      "iteration: 4 | samples number: 1800000 | mean: [-12.00421932] | variance [435.7545509]\n",
      "iteration: 5 | samples number: 2025000 | mean: [-12.00479651] | variance [435.84311359]\n"
     ]
    }
   ],
   "source": [
    "# mean array\n",
    "mean_a = [mu1, mu2]\n",
    "## matrix of covariance\n",
    "cov  = [[sigma1_quad, sigma2_quad*sigma1_quad], [sigma1_quad*sigma2_quad , sigma2_quad]]\n",
    "\n",
    "# init of mean and variance array\n",
    "mean_c = np.zeros((l,1))\n",
    "variance_c = np.zeros((l,1))\n",
    "\n",
    "for i,value in enumerate(s):\n",
    "    \n",
    "    N = int(value)\n",
    "    xc,yc = np.random.multivariate_normal(mean_a, cov,(N,1)).T\n",
    "    zc = evalfunction(np.reshape([xc, yc],(N,2)),blackbox)\n",
    "    mean_c[i] = np.mean(zc)\n",
    "    variance_c[i] = np.var(zc)\n",
    "    print 'iteration:',i,'| samples number:',N, '| mean:', mean_c[i], '| variance', variance_c[i]    \n"
   ]
  },
  {
   "cell_type": "markdown",
   "metadata": {},
   "source": [
    "Little differences are obtained among mean and variance values also for correlated variables."
   ]
  },
  {
   "cell_type": "markdown",
   "metadata": {},
   "source": [
    "### Comparison of results"
   ]
  },
  {
   "cell_type": "markdown",
   "metadata": {},
   "source": [
    "Now we want to compare Monte Carlo's predictions for independent and correlated input variables: the aim is to estimate how different can be predictions if inputs are assumed to have relationship or not. In the following lines the code has the same syntax used previously, for a greater clarity the calculations for $\\mu_i$ and $\\sigma_i$ have been separated into two different $for$ statements:"
   ]
  },
  {
   "cell_type": "code",
   "execution_count": 12,
   "metadata": {},
   "outputs": [
    {
     "name": "stdout",
     "output_type": "stream",
     "text": [
      "Results for Mean calculation:\n",
      "| samples number: 900000 | correlated: [-12.00694754] | independent [-11.99670196]\n",
      "| samples number: 1125000 | correlated: [-11.9908548] | independent [-12.0070435]\n",
      "| samples number: 1350000 | correlated: [-11.98881554] | independent [-11.99894992]\n",
      "| samples number: 1575000 | correlated: [-11.9987502] | independent [-12.00328107]\n",
      "| samples number: 1800000 | correlated: [-12.00504156] | independent [-12.00692797]\n",
      "| samples number: 2025000 | correlated: [-12.00192366] | independent [-11.99915766]\n"
     ]
    }
   ],
   "source": [
    "print 'Results for Mean calculation:' \n",
    "for i,value in enumerate(s):\n",
    "    \n",
    "    N = int(value)\n",
    "    # correlated\n",
    "    xc,yc = np.random.multivariate_normal(mean_a, cov,(N,1)).T\n",
    "    zc = evalfunction(np.reshape([xc, yc],(N,2)),blackbox)\n",
    "    mean_c[i] = np.mean(zc)\n",
    "    \n",
    "    # independent\n",
    "    x = np.random.randn(N,2)\n",
    "    x1 = x[:,0]*dev_1 + mu1\n",
    "    x2 = x[:,1]*dev_2 + mu2\n",
    "    z = evalfunction(np.reshape([x1,x2],(N,2)),blackbox)\n",
    "    mean[i] = np.mean(z)\n",
    "    print '| samples number:',N, '| correlated:', mean_c[i], '| independent', mean[i]\n",
    "    \n",
    "    #variance[i] = np.var(z)\n",
    "    #variance_c[i] = np.var(zc)"
   ]
  },
  {
   "cell_type": "code",
   "execution_count": 21,
   "metadata": {},
   "outputs": [
    {
     "name": "stdout",
     "output_type": "stream",
     "text": [
      "Results for Variance calculation:\n",
      "| samples number: 900000 | correlated: [435.72545042] | independent [435.87232613]\n",
      "| samples number: 1125000 | correlated: [435.77489931] | independent [435.35727259]\n",
      "| samples number: 1350000 | correlated: [435.57498152] | independent [435.69100024]\n",
      "| samples number: 1575000 | correlated: [435.62978561] | independent [435.54090344]\n",
      "| samples number: 1800000 | correlated: [435.58725603] | independent [435.90276531]\n",
      "| samples number: 2025000 | correlated: [435.71836197] | independent [435.50484597]\n"
     ]
    }
   ],
   "source": [
    "print 'Results for Variance calculation:' \n",
    "for i,value in enumerate(s):\n",
    "    \n",
    "    N = int(value)\n",
    "    # correlated\n",
    "    xc,yc = np.random.multivariate_normal(mean_a, cov,(N,1)).T\n",
    "    zc = evalfunction(np.reshape([xc, yc],(N,2)),blackbox)\n",
    "    variance_c[i] = np.var(zc)\n",
    "    \n",
    "    \n",
    "    # independent\n",
    "    x = np.random.randn(N,2)\n",
    "    x1 = x[:,0]*dev_1 + mu1\n",
    "    x2 = x[:,1]*dev_2 + mu2\n",
    "    z = evalfunction(np.reshape([x1,x2],(N,2)),blackbox)\n",
    "    variance[i] = np.var(z)\n",
    "    print '| samples number:',N, '| correlated:', variance_c[i], '| independent', variance[i]  \n",
    "    "
   ]
  },
  {
   "cell_type": "markdown",
   "metadata": {},
   "source": [
    "A graphic comparison of output distributions has been reported as follows, for the lower number of samples:"
   ]
  },
  {
   "cell_type": "code",
   "execution_count": 31,
   "metadata": {},
   "outputs": [
    {
     "data": {
      "image/png": "[encoded data removed]",
      "text/plain": [
       "<Figure size 576x576 with 3 Axes>"
      ]
     },
     "metadata": {},
     "output_type": "display_data"
    }
   ],
   "source": [
    "#---------------------------- INDEPENDENT RANDOM VARIABLES ------------------------------#\n",
    "N = 900000\n",
    "\n",
    "x1 = np.random.normal(mu1,dev_1,(N,1))\n",
    "x2 = np.random.normal(mu2,dev_2,(N,1))\n",
    "\n",
    "nullfmt = NullFormatter()\n",
    "\n",
    "#axes\n",
    "left, width = 0.1, 0.65\n",
    "bottom, height = 0.1, 0.65\n",
    "bottom_h = left_h = left + width + 0.02\n",
    "\n",
    "rect_scatter = [left, bottom, width, height]\n",
    "rect_histx = [left, bottom_h, width, 0.2]\n",
    "rect_histy = [left_h, bottom, 0.2, height]\n",
    "\n",
    "# rectangular figure\n",
    "\n",
    "plt.figure(1, figsize=(8,8))\n",
    "axScatter = plt.axes(rect_scatter)\n",
    "axHistx = plt.axes(rect_histx)\n",
    "axHisty = plt.axes(rect_histy)\n",
    "\n",
    "# no labels\n",
    "\n",
    "axHistx.xaxis.set_major_formatter(nullfmt)\n",
    "axHisty.yaxis.set_major_formatter(nullfmt)\n",
    "\n",
    "#scatter plot\n",
    "\n",
    "axScatter.scatter(x1, x2)\n",
    "\n",
    "# limits\n",
    "\n",
    "binwidth = 0.25\n",
    "xymax = np.max([np.max(np.fabs(x1)), np.max(np.fabs(x2)) ])\n",
    "lim = (int(xymax/binwidth)+1)*binwidth\n",
    "\n",
    "axScatter.set_xlim((-lim, lim))\n",
    "axScatter.set_ylim((-lim, lim))\n",
    "\n",
    "bins = np.arange(-lim, lim + binwidth, binwidth)\n",
    "axHistx.hist(x1, bins = bins)\n",
    "axHisty.hist(x2, bins = bins, orientation='horizontal')\n",
    "\n",
    "#axHistx.set_xlim(axScatter.get_xlim())\n",
    "#axHistx.set_ylim(axScatter.get_ylim())\n",
    "\n",
    "plt.show()"
   ]
  },
  {
   "cell_type": "code",
   "execution_count": 28,
   "metadata": {},
   "outputs": [
    {
     "data": {
      "image/png": "[encoded data removed]",
      "text/plain": [
       "<Figure size 576x576 with 3 Axes>"
      ]
     },
     "metadata": {},
     "output_type": "display_data"
    }
   ],
   "source": [
    "#--------------------------- CORRELATED RANDOM VARIABLES -----------------------------#\n",
    "N = 900000\n",
    "xc,yc = np.random.multivariate_normal(mean_a, cov,(N,1)).T\n",
    "xc = np.transpose(xc)\n",
    "yc = np.transpose(yc)\n",
    "\n",
    "\n",
    "nullfmt = NullFormatter()\n",
    "\n",
    "#axes\n",
    "left, width = 0.1, 0.65\n",
    "bottom, height = 0.1, 0.65\n",
    "bottom_h = left_h = left + width + 0.02\n",
    "\n",
    "rect_scatter = [left, bottom, width, height]\n",
    "rect_histx = [left, bottom_h, width, 0.2]\n",
    "rect_histy = [left_h, bottom, 0.2, height]\n",
    "\n",
    "## output distribution\n",
    "zc = evalfunction(np.reshape([xc, yc],(N,2)),blackbox)\n",
    "\n",
    "plt.figure(1, figsize=(8,8))\n",
    "axScatter = plt.axes(rect_scatter)\n",
    "axHistx = plt.axes(rect_histx)\n",
    "axHisty = plt.axes(rect_histy)\n",
    "\n",
    "# no labels\n",
    "\n",
    "axHistx.xaxis.set_major_formatter(nullfmt)\n",
    "axHisty.yaxis.set_major_formatter(nullfmt)\n",
    "\n",
    "#scatter plot\n",
    "\n",
    "#axScatter.scatter(xi, yi)\n",
    "axScatter.scatter(xc,yc)\n",
    "\n",
    "# limits\n",
    "\n",
    "binwidth = 0.25\n",
    "#xymax = np.max([np.max(np.fabs(xi)), np.max(np.fabs(yi)) ])\n",
    "xymax = np.max([np.max(np.fabs(xc)), np.max(np.fabs(yc)) ])\n",
    "\n",
    "lim = (int(xymax/binwidth)+1)*binwidth\n",
    "\n",
    "axScatter.set_xlim((-lim, lim))\n",
    "axScatter.set_ylim((-lim, lim))\n",
    "\n",
    "#axScatter.set_xlim((-5, 5))\n",
    "#axScatter.set_ylim((-5, 5))\n",
    "\n",
    "\n",
    "bins = np.arange(-lim, lim + binwidth, binwidth)\n",
    "#axHistx.hist(xi, bins = bins)\n",
    "#axHisty.hist(yi, bins = bins, orientation='horizontal')\n",
    "\n",
    "axHistx.hist(xc, bins = bins)\n",
    "axHisty.hist(yc, bins = bins, orientation='horizontal')\n",
    "\n",
    "#axHistx.set_xlim(axScatter.get_xlim())\n",
    "#axHistx.set_ylim(axScatter.get_ylim())\n",
    "\n",
    "plt.show()"
   ]
  },
  {
   "cell_type": "code",
   "execution_count": null,
   "metadata": {},
   "outputs": [],
   "source": []
  }
 ],
 "metadata": {
  "kernelspec": {
   "display_name": "Python 2",
   "language": "python2",
   "name": "python2"
  },
  "language_info": {
   "codemirror_mode": {
    "name": "ipython",
    "version": 2
   },
   "file_extension": ".py",
   "mimetype": "text/x-python",
   "name": "python",
   "nbconvert_exporter": "python",
   "pygments_lexer": "ipython2",
   "version": "2.7.15"
  }
 },
 "nbformat": 4,
 "nbformat_minor": 2
}
